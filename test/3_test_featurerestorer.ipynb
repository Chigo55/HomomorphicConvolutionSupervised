{
 "cells": [
  {
   "cell_type": "code",
   "execution_count": null,
   "id": "fec3f938",
   "metadata": {},
   "outputs": [],
   "source": [
    "import sys\n",
    "\n",
    "import torch\n",
    "\n",
    "sys.path.append(\"..\")\n"
   ]
  },
  {
   "cell_type": "code",
   "execution_count": null,
   "id": "9b96ef3a",
   "metadata": {},
   "outputs": [],
   "source": [
    "from data.dataloader import LowLightDataModule\n",
    "from model.blocks.featurerestorer import FeatureRestorationBlock\n",
    "from model.blocks.homomorphic import ImageDecomposition\n",
    "from utils.utils import show_batch, summarize_model\n"
   ]
  },
  {
   "cell_type": "code",
   "execution_count": null,
   "id": "56f038a1",
   "metadata": {},
   "outputs": [],
   "source": [
    "data_module = LowLightDataModule(\n",
    "    train_dir=\"../data/1_train\",\n",
    "    valid_dir=\"../data/2_valid\",\n",
    "    bench_dir=\"../data/3_bench\",\n",
    "    infer_dir=\"../data/4_infer\",\n",
    "    image_size=512,\n",
    "    batch_size=1,\n",
    "    num_workers=4,\n",
    ")\n",
    "\n",
    "data_module.setup(stage=\"fit\")\n"
   ]
  },
  {
   "cell_type": "code",
   "execution_count": null,
   "id": "bf5f3c81",
   "metadata": {},
   "outputs": [],
   "source": [
    "train_dataloader = data_module.train_dataloader()\n"
   ]
  },
  {
   "cell_type": "code",
   "execution_count": null,
   "id": "93548f84",
   "metadata": {},
   "outputs": [],
   "source": [
    "train_low, train_high = next(iter(train_dataloader))\n",
    "print(train_low.shape)\n",
    "print(train_high.shape)\n",
    "show_batch(images=train_low)\n",
    "show_batch(images=train_high)\n"
   ]
  },
  {
   "cell_type": "code",
   "execution_count": null,
   "id": "e722d4aa",
   "metadata": {},
   "outputs": [],
   "source": [
    "decompose = ImageDecomposition(offset=0.5, cutoff=0.1)\n"
   ]
  },
  {
   "cell_type": "code",
   "execution_count": null,
   "id": "626ab230",
   "metadata": {},
   "outputs": [],
   "source": [
    "train_low = train_low.cuda()\n",
    "decompose = decompose.cuda()\n"
   ]
  },
  {
   "cell_type": "code",
   "execution_count": null,
   "id": "2e376261",
   "metadata": {},
   "outputs": [],
   "source": [
    "luminance, chroma_red, chroma_blue, illuminance, reflectance = decompose(train_low)\n"
   ]
  },
  {
   "cell_type": "code",
   "execution_count": null,
   "id": "916c166e",
   "metadata": {},
   "outputs": [],
   "source": [
    "restore = FeatureRestorationBlock(\n",
    "    in_channels=1,\n",
    "    out_channels=1,\n",
    "    embed_dim=32,\n",
    "    num_heads=8,\n",
    "    mlp_ratio=4,\n",
    "    dropout_ratio=0.2,\n",
    ")\n"
   ]
  },
  {
   "cell_type": "code",
   "execution_count": null,
   "id": "c749b039",
   "metadata": {},
   "outputs": [],
   "source": [
    "restore = restore.cuda()\n"
   ]
  },
  {
   "cell_type": "code",
   "execution_count": null,
   "id": "1a5f1054",
   "metadata": {},
   "outputs": [],
   "source": [
    "chroma_red, chroma_blue = restore(chroma_red, chroma_blue)\n"
   ]
  },
  {
   "cell_type": "code",
   "execution_count": null,
   "id": "4d4e5576",
   "metadata": {},
   "outputs": [],
   "source": [
    "show_batch(images=torch.cat(tensors=[chroma_red, chroma_blue], dim=0))\n"
   ]
  },
  {
   "cell_type": "code",
   "execution_count": null,
   "id": "92a85ab5",
   "metadata": {},
   "outputs": [],
   "source": [
    "input_tensors = [\n",
    "    torch.randn(1, 1, 256, 256, device=\"cuda\"),  # cr\n",
    "    torch.randn(1, 1, 256, 256, device=\"cuda\"),  # cb\n",
    "]\n",
    "summarize_model(model=restore, input_data=input_tensors)\n"
   ]
  }
 ],
 "metadata": {
  "kernelspec": {
   "display_name": "homomorphicconvolutionsupervised",
   "language": "python",
   "name": "python3"
  },
  "language_info": {
   "codemirror_mode": {
    "name": "ipython",
    "version": 3
   },
   "file_extension": ".py",
   "mimetype": "text/x-python",
   "name": "python",
   "nbconvert_exporter": "python",
   "pygments_lexer": "ipython3",
   "version": "3.10.18"
  }
 },
 "nbformat": 4,
 "nbformat_minor": 5
}
