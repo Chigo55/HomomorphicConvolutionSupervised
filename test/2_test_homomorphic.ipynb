{
 "cells": [
  {
   "cell_type": "code",
   "execution_count": null,
   "id": "14e5a38a",
   "metadata": {},
   "outputs": [],
   "source": [
    "import sys\n",
    "\n",
    "import torch\n",
    "\n",
    "sys.path.append(\"..\")\n"
   ]
  },
  {
   "cell_type": "code",
   "execution_count": null,
   "id": "a7e03599",
   "metadata": {},
   "outputs": [],
   "source": [
    "from data.dataloader import LowLightDataModule\n",
    "from model.blocks.homomorphic import ImageComposition, ImageDecomposition\n",
    "from utils.utils import show_batch, summarize_model\n"
   ]
  },
  {
   "cell_type": "code",
   "execution_count": null,
   "id": "16cec6f9",
   "metadata": {},
   "outputs": [],
   "source": [
    "data_module = LowLightDataModule(\n",
    "    train_dir=\"../data/1_train\",\n",
    "    valid_dir=\"../data/2_valid\",\n",
    "    bench_dir=\"../data/3_bench\",\n",
    "    infer_dir=\"../data/4_infer\",\n",
    "    image_size=512,\n",
    "    batch_size=1,\n",
    "    num_workers=4,\n",
    ")\n",
    "\n",
    "data_module.setup(stage=\"fit\")\n"
   ]
  },
  {
   "cell_type": "code",
   "execution_count": null,
   "id": "44a18f23",
   "metadata": {},
   "outputs": [],
   "source": [
    "train_dataloader = data_module.train_dataloader()\n"
   ]
  },
  {
   "cell_type": "code",
   "execution_count": null,
   "id": "74c6ce3c",
   "metadata": {},
   "outputs": [],
   "source": [
    "train_low, train_high = next(iter(train_dataloader))\n",
    "print(train_low.shape)\n",
    "print(train_high.shape)\n",
    "show_batch(images=train_low)\n",
    "show_batch(images=train_high)\n"
   ]
  },
  {
   "cell_type": "code",
   "execution_count": null,
   "id": "56ce5572",
   "metadata": {},
   "outputs": [],
   "source": [
    "decompose = ImageDecomposition(offset=0.5, cutoff=0.1)\n",
    "compose = ImageComposition(offset=0.5)\n"
   ]
  },
  {
   "cell_type": "code",
   "execution_count": null,
   "id": "4d13a189",
   "metadata": {},
   "outputs": [],
   "source": [
    "train_low = train_low.cuda()\n",
    "decompose = decompose.cuda()\n",
    "compose = compose.cuda()\n"
   ]
  },
  {
   "cell_type": "code",
   "execution_count": null,
   "id": "e693f7f8",
   "metadata": {},
   "outputs": [],
   "source": [
    "luminance, chroma_red, chroma_blue, illuminance, reflectance = decompose(train_low)\n",
    "rgb = compose(chroma_red, chroma_blue, luminance)\n"
   ]
  },
  {
   "cell_type": "code",
   "execution_count": null,
   "id": "3173634f",
   "metadata": {},
   "outputs": [],
   "source": [
    "show_batch(images=train_low)\n",
    "show_batch(\n",
    "    images=torch.cat(\n",
    "        tensors=[luminance, chroma_red, chroma_blue, illuminance, reflectance], dim=0\n",
    "    )\n",
    ")\n",
    "\n",
    "show_batch(images=rgb)\n"
   ]
  },
  {
   "cell_type": "code",
   "execution_count": null,
   "id": "7c7ea950",
   "metadata": {},
   "outputs": [],
   "source": [
    "summarize_model(model=decompose, input_size=(1, 3, 256, 256))\n"
   ]
  },
  {
   "cell_type": "code",
   "execution_count": null,
   "id": "0b4dcced",
   "metadata": {},
   "outputs": [],
   "source": [
    "input_tensors = [\n",
    "    torch.randn(1, 1, 256, 256, device=\"cuda\"),  # cr\n",
    "    torch.randn(1, 1, 256, 256, device=\"cuda\"),  # cb\n",
    "    torch.randn(1, 1, 256, 256, device=\"cuda\"),  # y\n",
    "]\n",
    "summarize_model(model=compose, input_data=input_tensors)\n"
   ]
  }
 ],
 "metadata": {
  "kernelspec": {
   "display_name": "homomorphicconvolutionsupervised",
   "language": "python",
   "name": "python3"
  },
  "language_info": {
   "codemirror_mode": {
    "name": "ipython",
    "version": 3
   },
   "file_extension": ".py",
   "mimetype": "text/x-python",
   "name": "python",
   "nbconvert_exporter": "python",
   "pygments_lexer": "ipython3",
   "version": "3.10.18"
  }
 },
 "nbformat": 4,
 "nbformat_minor": 5
}
