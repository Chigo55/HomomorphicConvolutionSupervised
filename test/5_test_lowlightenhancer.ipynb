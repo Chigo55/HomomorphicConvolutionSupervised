{
 "cells": [
  {
   "cell_type": "code",
   "execution_count": null,
   "id": "889cc7b7",
   "metadata": {},
   "outputs": [],
   "source": [
    "import sys\n",
    "\n",
    "sys.path.append(\"..\")\n"
   ]
  },
  {
   "cell_type": "code",
   "execution_count": null,
   "id": "c06ece23",
   "metadata": {},
   "outputs": [],
   "source": [
    "from data.dataloader import LowLightDataModule\n",
    "from model.blocks.lowlightenhancer import LowLightEnhancer\n",
    "from utils.utils import show_batch, summarize_model\n"
   ]
  },
  {
   "cell_type": "code",
   "execution_count": null,
   "id": "3279d562",
   "metadata": {},
   "outputs": [],
   "source": [
    "data_module = LowLightDataModule(\n",
    "    train_dir=\"../data/1_train\",\n",
    "    valid_dir=\"../data/2_valid\",\n",
    "    bench_dir=\"../data/3_bench\",\n",
    "    infer_dir=\"../data/4_infer\",\n",
    "    image_size=512,\n",
    "    batch_size=1,\n",
    "    num_workers=4,\n",
    ")\n",
    "\n",
    "data_module.setup()\n"
   ]
  },
  {
   "cell_type": "code",
   "execution_count": null,
   "id": "aba58689",
   "metadata": {},
   "outputs": [],
   "source": [
    "train_dataloader = data_module.train_dataloader()\n"
   ]
  },
  {
   "cell_type": "code",
   "execution_count": null,
   "id": "65c1bdaf",
   "metadata": {},
   "outputs": [],
   "source": [
    "train_low, train_high = next(iter(train_dataloader))\n",
    "print(train_low.shape)\n",
    "print(train_high.shape)\n",
    "show_batch(images=train_low)\n",
    "show_batch(images=train_high)\n"
   ]
  },
  {
   "cell_type": "code",
   "execution_count": null,
   "id": "c01bc0e0",
   "metadata": {},
   "outputs": [],
   "source": [
    "lowlightenhancer = LowLightEnhancer(\n",
    "    embed_dim=32,\n",
    "    num_heads=8,\n",
    "    mlp_ratio=4,\n",
    "    num_resolution=4,\n",
    "    dropout_ratio=0.2,\n",
    "    offset=0.5,\n",
    "    cutoff=0.1,\n",
    ")\n"
   ]
  },
  {
   "cell_type": "code",
   "execution_count": null,
   "id": "4749e70b",
   "metadata": {},
   "outputs": [],
   "source": [
    "train_low = train_low.cuda()\n",
    "lowlightenhancer = lowlightenhancer.cuda()\n"
   ]
  },
  {
   "cell_type": "code",
   "execution_count": null,
   "id": "1573c945",
   "metadata": {},
   "outputs": [],
   "source": [
    "results = lowlightenhancer(train_low)\n"
   ]
  },
  {
   "cell_type": "code",
   "execution_count": null,
   "id": "f80f4478",
   "metadata": {},
   "outputs": [],
   "source": [
    "show_batch(images=results[\"enhanced\"][\"rgb\"])\n"
   ]
  },
  {
   "cell_type": "code",
   "execution_count": null,
   "id": "f5f17473",
   "metadata": {},
   "outputs": [],
   "source": [
    "summarize_model(model=lowlightenhancer, input_size=(1, 3, 256, 256))\n"
   ]
  }
 ],
 "metadata": {
  "kernelspec": {
   "display_name": "jih_icicic",
   "language": "python",
   "name": "python3"
  },
  "language_info": {
   "codemirror_mode": {
    "name": "ipython",
    "version": 3
   },
   "file_extension": ".py",
   "mimetype": "text/x-python",
   "name": "python",
   "nbconvert_exporter": "python",
   "pygments_lexer": "ipython3",
   "version": "3.11.11"
  }
 },
 "nbformat": 4,
 "nbformat_minor": 5
}
